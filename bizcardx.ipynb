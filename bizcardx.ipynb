{
 "cells": [
  {
   "cell_type": "code",
   "execution_count": 2,
   "metadata": {},
   "outputs": [],
   "source": [
    "import streamlit as st\n",
    "from streamlit_option_menu import option_menu\n",
    "import easyocr\n",
    "import mysql.connector\n",
    "from PIL import Image\n",
    "import pandas as pd\n",
    "import numpy as np\n",
    "import re\n",
    "import io\n",
    "import sqlite3"
   ]
  },
  {
   "cell_type": "code",
   "execution_count": 3,
   "metadata": {},
   "outputs": [],
   "source": [
    "def img_to_txt(path):\n",
    "    input_img = Image.open(path)\n",
    "\n",
    "    #converting image to array format\n",
    "    image_arr= np.array(input_img)\n",
    "\n",
    "    reader = easyocr.Reader(['en'])\n",
    "    text = reader.readtext(image_arr, detail=0)\n",
    "\n",
    "    return text, input_img"
   ]
  },
  {
   "cell_type": "code",
   "execution_count": 4,
   "metadata": {},
   "outputs": [],
   "source": [
    "# C:/Users/HP/Documents/project/BizCardx/1.png/\n",
    "# C:/Users/HP/Documents/project/BizCardx/2.png/\n",
    "# C:/Users/HP/Documents/project/BizCardx/3.png/\n",
    "# C:/Users/HP/Documents/project/BizCardx/4.png/\n",
    "# C:/Users/HP/Documents/project/BizCardx/5.png/"
   ]
  },
  {
   "cell_type": "code",
   "execution_count": 5,
   "metadata": {},
   "outputs": [
    {
     "name": "stderr",
     "output_type": "stream",
     "text": [
      "Neither CUDA nor MPS are available - defaulting to CPU. Note: This module is much faster with a GPU.\n"
     ]
    }
   ],
   "source": [
    "text_img, input_img = img_to_txt(\"C:/Users/HP/Documents/project/BizCardx/5.png/\")"
   ]
  },
  {
   "cell_type": "code",
   "execution_count": 6,
   "metadata": {},
   "outputs": [],
   "source": [
    "def extract_text(texts):\n",
    "    extract_dict = {\"NAME\":[],\n",
    "                    \"DESIGNATION\":[],\n",
    "                    \"COMPANY NAME\": [],\n",
    "                    \"CONTACT\":[],\n",
    "                    \"EMAIL\":[],\n",
    "                    \"WEBSITE\":[],\n",
    "                    \"ADDRESS\":[],\n",
    "                    \"PINCODE\":[]}\n",
    "    \n",
    "\n",
    "    extract_dict[\"NAME\"].append(texts[0])\n",
    "    extract_dict[\"DESIGNATION\"].append(texts[1])\n",
    "    \n",
    "    for i in range(2, len(texts)):\n",
    "        if texts[i].startswith(\"+\") or (texts[i].replace(\"-\",\"\").isdigit() and \"-\" in texts[i]):\n",
    "            extract_dict[\"CONTACT\"].append(texts[i])\n",
    "\n",
    "        elif \"@\" in texts[i] and \".com\" in texts[i]:\n",
    "            extract_dict[\"EMAIL\"].append(texts[i])\n",
    "\n",
    "        elif \"WWW\" in texts[i] or \"www\" in texts[i]:\n",
    "            small = texts[i].lower()\n",
    "            extract_dict[\"WEBSITE\"].append(small)\n",
    "\n",
    "        elif \"Tamil Nadu\" in texts[i] or \"TamilNadu\" in  texts[i] or texts[i].isdigit():\n",
    "            extract_dict[\"PINCODE\"].append(texts[i])\n",
    "\n",
    "        elif re.match(r'^[A-Za-z]',  texts[i]):\n",
    "            extract_dict[\"COMPANY NAME\"].append( texts[i])\n",
    "\n",
    "        else:\n",
    "            remove_colon = re.sub(r'[,;]', '', texts[i])\n",
    "            extract_dict[\"ADDRESS\"].append(remove_colon)\n",
    "\n",
    "    for key,value in extract_dict.items():\n",
    "        if len(value)>0:\n",
    "            concadenate = \" \".join(value)\n",
    "            extract_dict[key] = [concadenate]\n",
    "        \n",
    "        else:\n",
    "            value = \"NA\"\n",
    "            extract_dict[key] = [value]\n",
    "\n",
    "    return extract_dict"
   ]
  },
  {
   "cell_type": "code",
   "execution_count": 7,
   "metadata": {},
   "outputs": [
    {
     "data": {
      "text/plain": [
       "{'NAME': ['SANTHOSH'],\n",
       " 'DESIGNATION': ['Technical Manager'],\n",
       " 'COMPANY NAME': ['Sun Electricals'],\n",
       " 'CONTACT': ['+123-456-1234'],\n",
       " 'EMAIL': ['hello@Sun.com'],\n",
       " 'WEBSITE': ['www.suncom'],\n",
       " 'ADDRESS': ['NA'],\n",
       " 'PINCODE': ['123 ABC St , Tirupur, TamilNadu; 641603']}"
      ]
     },
     "execution_count": 7,
     "metadata": {},
     "output_type": "execute_result"
    }
   ],
   "source": [
    "extract_text(text_img)"
   ]
  },
  {
   "cell_type": "code",
   "execution_count": 8,
   "metadata": {},
   "outputs": [],
   "source": [
    "df = pd.DataFrame(extract_text(text_img))"
   ]
  },
  {
   "cell_type": "code",
   "execution_count": 9,
   "metadata": {},
   "outputs": [
    {
     "data": {
      "text/html": [
       "<div>\n",
       "<style scoped>\n",
       "    .dataframe tbody tr th:only-of-type {\n",
       "        vertical-align: middle;\n",
       "    }\n",
       "\n",
       "    .dataframe tbody tr th {\n",
       "        vertical-align: top;\n",
       "    }\n",
       "\n",
       "    .dataframe thead th {\n",
       "        text-align: right;\n",
       "    }\n",
       "</style>\n",
       "<table border=\"1\" class=\"dataframe\">\n",
       "  <thead>\n",
       "    <tr style=\"text-align: right;\">\n",
       "      <th></th>\n",
       "      <th>NAME</th>\n",
       "      <th>DESIGNATION</th>\n",
       "      <th>COMPANY NAME</th>\n",
       "      <th>CONTACT</th>\n",
       "      <th>EMAIL</th>\n",
       "      <th>WEBSITE</th>\n",
       "      <th>ADDRESS</th>\n",
       "      <th>PINCODE</th>\n",
       "    </tr>\n",
       "  </thead>\n",
       "  <tbody>\n",
       "    <tr>\n",
       "      <th>0</th>\n",
       "      <td>SANTHOSH</td>\n",
       "      <td>Technical Manager</td>\n",
       "      <td>Sun Electricals</td>\n",
       "      <td>+123-456-1234</td>\n",
       "      <td>hello@Sun.com</td>\n",
       "      <td>www.suncom</td>\n",
       "      <td>NA</td>\n",
       "      <td>123 ABC St , Tirupur, TamilNadu; 641603</td>\n",
       "    </tr>\n",
       "  </tbody>\n",
       "</table>\n",
       "</div>"
      ],
      "text/plain": [
       "       NAME        DESIGNATION     COMPANY NAME        CONTACT          EMAIL  \\\n",
       "0  SANTHOSH  Technical Manager  Sun Electricals  +123-456-1234  hello@Sun.com   \n",
       "\n",
       "      WEBSITE ADDRESS                                  PINCODE  \n",
       "0  www.suncom      NA  123 ABC St , Tirupur, TamilNadu; 641603  "
      ]
     },
     "execution_count": 9,
     "metadata": {},
     "output_type": "execute_result"
    }
   ],
   "source": [
    "df"
   ]
  },
  {
   "cell_type": "code",
   "execution_count": 10,
   "metadata": {},
   "outputs": [
    {
     "data": {
      "text/plain": [
       "['SANTHOSH',\n",
       " 'Technical Manager',\n",
       " '123 ABC St , Tirupur, TamilNadu;',\n",
       " '641603',\n",
       " '+123-456-1234',\n",
       " 'hello@Sun.com',\n",
       " 'www.Suncom',\n",
       " 'Sun Electricals']"
      ]
     },
     "execution_count": 10,
     "metadata": {},
     "output_type": "execute_result"
    }
   ],
   "source": [
    "text_img"
   ]
  },
  {
   "cell_type": "code",
   "execution_count": 11,
   "metadata": {},
   "outputs": [],
   "source": [
    "# converting image to bytes\n",
    "\n",
    "Image_bytes= io.BytesIO()\n",
    "input_img.save(Image_bytes, format= \"PNG\")    \n",
    "\n",
    "Image_data = Image_bytes.getvalue()\n",
    "\n",
    "# creating dictionary\n",
    "\n",
    "data = {\"IMAGE\":[Image_data]}\n",
    "\n",
    "df1 = pd.DataFrame(data)\n",
    "\n",
    "concadenate_df = pd.concat([df,df1],axis=1)"
   ]
  },
  {
   "cell_type": "code",
   "execution_count": 12,
   "metadata": {},
   "outputs": [],
   "source": [
    "import MySQLdb\n",
    "#table creation\n",
    "\n",
    "mydb = MySQLdb.connect(\n",
    "  host=\"localhost\",\n",
    "  user=\"root\",\n",
    "  password=\"root\",\n",
    "  database=\"bizcardx\"\n",
    ")\n",
    "\n",
    "cursor = mydb.cursor()\n",
    "\n",
    "create_query = '''CREATE TABLE IF NOT EXISTS bizcard_details(name VARCHAR(255),\n",
    "                                                           designation VARCHAR(255),\n",
    "                                                           company_name VARCHAR(255),\n",
    "                                                           contact VARCHAR(255),\n",
    "                                                           email VARCHAR(255),\n",
    "                                                           website TEXT,\n",
    "                                                           address TEXT,\n",
    "                                                           pincode VARCHAR(255),\n",
    "                                                           image LONGBLOB)'''\n",
    "\n",
    "cursor.execute(create_query)\n",
    "mydb.commit()\n"
   ]
  },
  {
   "cell_type": "code",
   "execution_count": null,
   "metadata": {},
   "outputs": [],
   "source": []
  }
 ],
 "metadata": {
  "kernelspec": {
   "display_name": "Python 3",
   "language": "python",
   "name": "python3"
  },
  "language_info": {
   "codemirror_mode": {
    "name": "ipython",
    "version": 3
   },
   "file_extension": ".py",
   "mimetype": "text/x-python",
   "name": "python",
   "nbconvert_exporter": "python",
   "pygments_lexer": "ipython3",
   "version": "3.12.3"
  }
 },
 "nbformat": 4,
 "nbformat_minor": 2
}
